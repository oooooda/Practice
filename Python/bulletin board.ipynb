{
 "cells": [
  {
   "cell_type": "markdown",
   "metadata": {},
   "source": [
    "# 입력 : 총건수(m), 한페이지에 보여줄 게시물수(n) (단 n은 1보다 크거나 같다. n >= 1)\n",
    "# 출력 : 총페이지수"
   ]
  },
  {
   "cell_type": "code",
   "execution_count": 3,
   "metadata": {},
   "outputs": [
    {
     "name": "stdout",
     "output_type": "stream",
     "text": [
      "총 건수 :11\n",
      "게시물 수:5\n",
      "3\n"
     ]
    }
   ],
   "source": [
    "m=int(input(\"총 건수 :\"))\n",
    "n=int(input(\"게시물 수:\"))\n",
    "if n>0:\n",
    "    elif m==0:                            #총 건수가 존재하지 않을 경우 0페이지 출력\n",
    "        page=0\n",
    "    elif m<n:                             #총 건수가 게시물 수 보다 작을 경우 1페이지 출력\n",
    "        page=1\n",
    "    else:\n",
    "        page=int(m/n if (m%n)==0 else m/n+1) #총 건수가 게시물 보다 클 경우 페이지 수를 출력하기위한 조건문\n",
    "    print(page)\n",
    "else:\n",
    "    print(\"게시물 수가 잘못 입력되었습니다.\")"
   ]
  },
  {
   "cell_type": "code",
   "execution_count": null,
   "metadata": {},
   "outputs": [],
   "source": []
  }
 ],
 "metadata": {
  "kernelspec": {
   "display_name": "Python 3",
   "language": "python",
   "name": "python3"
  },
  "language_info": {
   "codemirror_mode": {
    "name": "ipython",
    "version": 3
   },
   "file_extension": ".py",
   "mimetype": "text/x-python",
   "name": "python",
   "nbconvert_exporter": "python",
   "pygments_lexer": "ipython3",
   "version": "3.7.4"
  }
 },
 "nbformat": 4,
 "nbformat_minor": 2
}
