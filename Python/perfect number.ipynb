{
 "cells": [
  {
   "cell_type": "markdown",
   "metadata": {},
   "source": [
    "# 입력받은 자연수 이하의 완전수 구하기"
   ]
  },
  {
   "cell_type": "code",
   "execution_count": 33,
   "metadata": {},
   "outputs": [
    {
     "name": "stdout",
     "output_type": "stream",
     "text": [
      "정수를 입력하세요:19\n",
      "6\n"
     ]
    }
   ],
   "source": [
    "num_input=int(input(\"정수를 입력하세요:\"))  #숫자 하나를 입력(int형으로)\n",
    "for num in range(1,num_input+1):           #1부터 입력된 숫자까지 반복\n",
    "    for i in range(1,num):                 #1부터 num까지 반복 \n",
    "        if((num%i)==0):                    #num의 약수와 합 구하기\n",
    "            sum+=i\n",
    "    if(sum==num):                          #완전수 일경우 값 출력, sum 초기화\n",
    "        print(sum)\n",
    "        sum=0\n",
    "    else:\n",
    "        sum=0\n"
   ]
  },
  {
   "cell_type": "code",
   "execution_count": null,
   "metadata": {},
   "outputs": [],
   "source": []
  }
 ],
 "metadata": {
  "kernelspec": {
   "display_name": "Python 3",
   "language": "python",
   "name": "python3"
  },
  "language_info": {
   "codemirror_mode": {
    "name": "ipython",
    "version": 3
   },
   "file_extension": ".py",
   "mimetype": "text/x-python",
   "name": "python",
   "nbconvert_exporter": "python",
   "pygments_lexer": "ipython3",
   "version": "3.7.4"
  }
 },
 "nbformat": 4,
 "nbformat_minor": 2
}
