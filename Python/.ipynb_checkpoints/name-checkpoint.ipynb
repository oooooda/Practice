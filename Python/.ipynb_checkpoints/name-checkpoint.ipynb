{
 "cells": [
  {
   "cell_type": "markdown",
   "metadata": {},
   "source": [
    "# 이유덕,이재영,권종표,이재영,박민호,강상희,이재영,김지완,최승혁,이성연,박영서,박민호,전경헌,송정환,김재성,이유덕,전경헌\n",
    "\n",
    "김씨와 이씨는 각각 몇 명 인가요?\n",
    "\n",
    "\"이재영\"이란 이름이 몇 번 반복되나요?\n",
    "\n",
    "중복을 제거한 이름을 출력하세요.\n",
    "\n",
    "중복을 제거한 이름을 오름차순으로 정렬하여 출력하세요."
   ]
  },
  {
   "cell_type": "code",
   "execution_count": 94,
   "metadata": {},
   "outputs": [
    {
     "name": "stdout",
     "output_type": "stream",
     "text": [
      "이: 6 김: 2 이재영: 3\n",
      "['김지완', '전경헌', '최승혁', '김재성', '강상희', '박민호', '권종표', '이성연', '박영서', '송정환', '이재영', '이유덕']\n",
      "['강상희', '권종표', '김재성', '김지완', '박민호', '박영서', '송정환', '이성연', '이유덕', '이재영', '전경헌', '최승혁']\n",
      "['최승혁', '전경헌', '이재영', '이유덕', '이성연', '송정환', '박영서', '박민호', '김지완', '김재성', '권종표', '강상희']\n"
     ]
    }
   ],
   "source": [
    "name=\"이유덕,이재영,권종표,이재영,박민호,강상희,이재영,김지완,최승혁,이성연,박영서,박민호,전경헌,송정환,김재성,이유덕,전경헌\"\n",
    "name=name.split(\",\")\n",
    "count_lee,count_kim,count_ljy=0,0,0\n",
    "for i,n in enumerate(name):\n",
    "    if name[i][0]=='이':\n",
    "        count_lee+=1\n",
    "        if name[i]=='이재영':\n",
    "            count_ljy+=1\n",
    "    elif name[i][0]=='김':\n",
    "        count_kim+=1\n",
    "print(\"이: {} 김: {} 이재영: {}\".format(count_lee,count_kim,count_ljy))\n",
    "name=list(set(name))\n",
    "print(name)\n",
    "name.sort()\n",
    "print(name)\n",
    "name.reverse()\n",
    "print(name)"
   ]
  },
  {
   "cell_type": "code",
   "execution_count": 90,
   "metadata": {},
   "outputs": [
    {
     "name": "stdout",
     "output_type": "stream",
     "text": [
      "['김지완', '전경헌', '최승혁', '김재성', '강상희', '박민호', '권종표', '이성연', '박영서', '송정환', '이재영', '이유덕']\n"
     ]
    }
   ],
   "source": [
    "name=list(set(name))\n",
    "print(name)"
   ]
  },
  {
   "cell_type": "code",
   "execution_count": null,
   "metadata": {},
   "outputs": [],
   "source": []
  }
 ],
 "metadata": {
  "kernelspec": {
   "display_name": "Python 3",
   "language": "python",
   "name": "python3"
  },
  "language_info": {
   "codemirror_mode": {
    "name": "ipython",
    "version": 3
   },
   "file_extension": ".py",
   "mimetype": "text/x-python",
   "name": "python",
   "nbconvert_exporter": "python",
   "pygments_lexer": "ipython3",
   "version": "3.7.4"
  }
 },
 "nbformat": 4,
 "nbformat_minor": 2
}
